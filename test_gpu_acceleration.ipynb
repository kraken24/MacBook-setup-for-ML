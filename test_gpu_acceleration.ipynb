{
 "cells": [
  {
   "cell_type": "markdown",
   "metadata": {},
   "source": [
    "# Torch Acceleration Test"
   ]
  },
  {
   "cell_type": "code",
   "execution_count": 4,
   "metadata": {},
   "outputs": [
    {
     "name": "stdout",
     "output_type": "stream",
     "text": [
      "Time taken on CPU: 5.448185205459595 seconds\n",
      "Time taken on GPU: 0.15682387351989746 seconds\n"
     ]
    }
   ],
   "source": [
    "import torch\n",
    "import time\n",
    "\n",
    "def measure_time(device):\n",
    "    x = torch.rand(10000, 10000, device=device)\n",
    "    y = torch.rand(10000, 10000, device=device)\n",
    "\n",
    "    start = time.time()\n",
    "    torch.matmul(x, y)\n",
    "    end = time.time()\n",
    "\n",
    "    return end - start\n",
    "\n",
    "# Measure time on CPU\n",
    "cpu_time = measure_time(device='cpu')\n",
    "print(f'Time taken on CPU: {cpu_time} seconds')\n",
    "\n",
    "# Measure time on GPU (MPS)\n",
    "gpu_time = measure_time(device='mps')\n",
    "print(f'Time taken on GPU: {gpu_time} seconds')\n"
   ]
  },
  {
   "cell_type": "markdown",
   "metadata": {},
   "source": [
    "# Tensorflow Acceleration Test"
   ]
  },
  {
   "cell_type": "markdown",
   "metadata": {},
   "source": []
  }
 ],
 "metadata": {
  "kernelspec": {
   "display_name": "ml_env",
   "language": "python",
   "name": "python3"
  },
  "language_info": {
   "codemirror_mode": {
    "name": "ipython",
    "version": 3
   },
   "file_extension": ".py",
   "mimetype": "text/x-python",
   "name": "python",
   "nbconvert_exporter": "python",
   "pygments_lexer": "ipython3",
   "version": "3.9.18"
  },
  "orig_nbformat": 4
 },
 "nbformat": 4,
 "nbformat_minor": 2
}
